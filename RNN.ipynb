{
 "cells": [
  {
   "cell_type": "code",
   "execution_count": 118,
   "id": "97852f6b-74ad-4259-b635-2fe67478c366",
   "metadata": {},
   "outputs": [],
   "source": [
    "import matplotlib.pyplot as plt\n",
    "import torch \n",
    "import torch.nn as nn\n",
    "import numpy as np\n",
    "import torch.utils.data as data\n",
    "from torch.utils.data import DataLoader, TensorDataset, random_split\n",
    "import tifffile as tiff #load tiff image\n",
    "from PIL import Image\n",
    "import os\n",
    "import torch\n",
    "from torchvision import transforms\n",
    "from sklearn.preprocessing import MinMaxScaler\n",
    "import numpy as np\n",
    "from sklearn.cluster import KMeans\n",
    "import torch\n",
    "import torch.nn as nn\n",
    "from torch.utils.data import DataLoader, Dataset\n",
    "from DataSet import myDataSet\n",
    "import torch.nn.functional as F\n",
    "from torchvision import transforms\n",
    "from torch.utils.data import Dataset, DataLoader\n",
    "from torch.utils.data import DataLoader, random_split\n",
    "import torch.nn as nn\n",
    "import torch.optim as optim\n",
    "import matplotlib.pyplot as plt\n",
    "from dataset_2 import dataset_2\n",
    "from torch.optim.lr_scheduler import ReduceLROnPlateau"
   ]
  },
  {
   "cell_type": "code",
   "execution_count": 119,
   "id": "33d03339-cb29-4c83-a775-ad53610b3a23",
   "metadata": {},
   "outputs": [],
   "source": [
    "import torch\n",
    "import time\n",
    "#导入数据集\n",
    "dataset = myDataSet(img_dir=r\"C:\\Users\\zslig\\Desktop\\暑研课题_实地阶段\\Gauss_S1.00_NL0.30_B0.50\", group_size=10000)\n"
   ]
  },
  {
   "cell_type": "code",
   "execution_count": 120,
   "id": "4037d018-5272-4bf8-93cf-f8df8f111214",
   "metadata": {},
   "outputs": [],
   "source": [
    "#dataset类目前储存着完整数据集！！！不要打乱！！！"
   ]
  },
  {
   "cell_type": "code",
   "execution_count": 125,
   "id": "b085b2e2-38e2-4150-972e-d11de734e0c2",
   "metadata": {},
   "outputs": [],
   "source": [
    "# 归一化处理，把所有像素值归一化到0-1\n",
    "X=dataset.X #(10000,4,56,56)\n",
    "Y=dataset.Y #(10000,1,56,56)\n",
    "min_max_X_values = [] # 保存每个通道的 (min, max) 值\n",
    "min_max_Y_values=[]\n",
    "# 对X要分通道进行归一化\n",
    "for i in range(4):\n",
    "    x=X[:,i,:,:]\n",
    "    x_max=x.max()\n",
    "    x_min=x.min()\n",
    "    min_max_X_values.append((x_min, x_max)) # 保存 min 和 max 值\n",
    "    x_new=(x-x_min)/(x_max-x_min)\n",
    "    X[:,i,:,:]=x_new\n",
    "y_min=Y.min()\n",
    "y_max=Y.max()\n",
    "min_max_Y_values.append((y_min,y_max))\n",
    "y_new=(Y-y_min)/(y_max-y_min)\n",
    "Y=y_new\n"
   ]
  },
  {
   "cell_type": "code",
   "execution_count": 126,
   "id": "78d83ae1-8cb1-4b1c-b853-fde1cf266635",
   "metadata": {},
   "outputs": [
    {
     "name": "stdout",
     "output_type": "stream",
     "text": [
      "torch.Size([10000, 56, 56])\n",
      "torch.Size([10000, 56, 224])\n",
      "torch.Size([10000, 1, 56, 56])\n",
      "torch.Size([10000, 56, 224])\n",
      "torch.Size([10000, 56, 56])\n"
     ]
    }
   ],
   "source": [
    "#更改x的形状\n",
    "x_e=X[:,0,:,:]\n",
    "x_h=X[:,1,:,:]\n",
    "x_tn=X[:,2,:,:]\n",
    "x_tp=X[:,3,:,:]\n",
    "print(x_h.shape)\n",
    "\n",
    "\n",
    "#下面是用行来拼接\n",
    "X_trans=torch.cat((x_e,x_h,x_tn,x_tp),dim=2)\n",
    "print(X_trans.shape)\n",
    "print(Y.shape)\n",
    "Y_trans=Y.reshape(10000, 56, 56)\n",
    "print(X_trans.shape)\n",
    "print(Y_trans.shape)\n",
    "\n",
    "#下面是以列来拼接\n",
    "#X_trans=torch.cat((x_e,x_h,x_tn,x_tp),dim=1)\n",
    "#print(X_trans.shape)\n",
    "#print(Y.shape)\n",
    "#Y_trans=Y.reshape(10000, 56, 56)\n",
    "#X_trans=X_trans.permute(0,2,1)\n",
    "#Y_trans=Y_trans.permute(0,2,1)\n",
    "#print(X_trans.shape)\n",
    "#print(Y_trans.shape)"
   ]
  },
  {
   "cell_type": "code",
   "execution_count": 131,
   "id": "1f66d275-857e-41f1-b509-d6a88fa79d83",
   "metadata": {},
   "outputs": [
    {
     "name": "stderr",
     "output_type": "stream",
     "text": [
      "C:\\Users\\zslig\\AppData\\Local\\Temp\\ipykernel_32452\\808330527.py:27: UserWarning: To copy construct from a tensor, it is recommended to use sourceTensor.clone().detach() or sourceTensor.clone().detach().requires_grad_(True), rather than torch.tensor(sourceTensor).\n",
      "  train_dataset = CustomDataset(torch.tensor(X_train, dtype=torch.float32), torch.tensor(Y_train, dtype=torch.float32))\n",
      "C:\\Users\\zslig\\AppData\\Local\\Temp\\ipykernel_32452\\808330527.py:28: UserWarning: To copy construct from a tensor, it is recommended to use sourceTensor.clone().detach() or sourceTensor.clone().detach().requires_grad_(True), rather than torch.tensor(sourceTensor).\n",
      "  val_dataset = CustomDataset(torch.tensor(X_val, dtype=torch.float32), torch.tensor(Y_val, dtype=torch.float32))\n",
      "C:\\Users\\zslig\\AppData\\Local\\Temp\\ipykernel_32452\\808330527.py:29: UserWarning: To copy construct from a tensor, it is recommended to use sourceTensor.clone().detach() or sourceTensor.clone().detach().requires_grad_(True), rather than torch.tensor(sourceTensor).\n",
      "  test_dataset = CustomDataset(torch.tensor(X_test, dtype=torch.float32), torch.tensor(Y_test, dtype=torch.float32))\n"
     ]
    }
   ],
   "source": [
    "# 输入定义为一句包含56个词语的句子，每个词汇表示为包含224个值的向量\n",
    "# 输出定义为一句包含56个词语的句子，每个词汇表示为包含56个值的向量\n",
    "\n",
    "import numpy as np\n",
    "import torch\n",
    "from torch.utils.data import DataLoader, Dataset, random_split\n",
    "from sklearn.model_selection import train_test_split\n",
    "\n",
    "\n",
    "# 分割数据集为训练集、验证集和测试集\n",
    "X_train, X_temp, Y_train, Y_temp = train_test_split(X_trans, Y_trans, test_size=0.2, random_state=42)\n",
    "X_val, X_test, Y_val, Y_test = train_test_split(X_temp, Y_temp, test_size=0.5, random_state=42)\n",
    "\n",
    "# 创建自定义数据集类\n",
    "class CustomDataset(Dataset):\n",
    "    def __init__(self, inputs, targets):\n",
    "        self.inputs = inputs\n",
    "        self.targets = targets\n",
    "\n",
    "    def __len__(self):\n",
    "        return len(self.inputs)\n",
    "\n",
    "    def __getitem__(self, idx):\n",
    "        return self.inputs[idx].clone().detach(), self.targets[idx].clone().detach()\n",
    "\n",
    "# 创建数据集\n",
    "train_dataset = CustomDataset(torch.tensor(X_train, dtype=torch.float32), torch.tensor(Y_train, dtype=torch.float32))\n",
    "val_dataset = CustomDataset(torch.tensor(X_val, dtype=torch.float32), torch.tensor(Y_val, dtype=torch.float32))\n",
    "test_dataset = CustomDataset(torch.tensor(X_test, dtype=torch.float32), torch.tensor(Y_test, dtype=torch.float32))\n",
    "\n",
    "# 定义超参数\n",
    "input_dim = 224\n",
    "hidden_dim = 224\n",
    "output_dim = 56\n",
    "num_layers = 2\n",
    "seq_len = 56\n",
    "batch_size = 32\n",
    "\n",
    "\n",
    "# 创建数据加载器\n",
    "train_loader = DataLoader(train_dataset, batch_size=batch_size, shuffle=True)\n",
    "val_loader = DataLoader(val_dataset, batch_size=batch_size, shuffle=False)\n",
    "test_loader = DataLoader(test_dataset, batch_size=batch_size, shuffle=False)\n",
    "\n",
    "# 定义模型\n",
    "class EncoderDecoderModel(nn.Module):\n",
    "    def __init__(self, input_dim, hidden_dim, output_dim, num_layers=2):\n",
    "        super(EncoderDecoderModel, self).__init__()\n",
    "        self.encoder = nn.LSTM(input_dim, hidden_dim, num_layers, batch_first=True)\n",
    "        self.decoder = nn.LSTM(hidden_dim, hidden_dim, num_layers, batch_first=True)\n",
    "        self.fc = nn.Linear(hidden_dim, output_dim)\n",
    "        \n",
    "    def forward(self, x):\n",
    "        # Encoder\n",
    "        enc_out, hidden = self.encoder(x)\n",
    "        \n",
    "        # Decoder\n",
    "        dec_out, _ = self.decoder(enc_out, hidden)\n",
    "        \n",
    "        # Fully connected layer to map hidden states to output dimension\n",
    "        out = self.fc(dec_out)\n",
    "        return out\n",
    "\n",
    "\n",
    "\n"
   ]
  },
  {
   "cell_type": "code",
   "execution_count": 132,
   "id": "1d3c3f7d-35db-4281-a0b7-54a57a9843c8",
   "metadata": {},
   "outputs": [],
   "source": [
    "# 创建模型\n",
    "model = EncoderDecoderModel(input_dim, hidden_dim, output_dim, num_layers)\n",
    "\n",
    "# 定义损失函数和优化器\n",
    "criterion = nn.MSELoss()\n",
    "optimizer = torch.optim.Adam(model.parameters(), lr=0.001)"
   ]
  },
  {
   "cell_type": "code",
   "execution_count": null,
   "id": "587b8895-8575-475d-97d6-594ad1f6ef6a",
   "metadata": {},
   "outputs": [
    {
     "name": "stdout",
     "output_type": "stream",
     "text": [
      "Epoch 1, Train Loss: 0.0004187210161471739, Validation Loss: 0.000410008085964364\n",
      "Epoch 2, Train Loss: 0.0003863274325849488, Validation Loss: 0.0003782031644732342\n",
      "Epoch 3, Train Loss: 0.00035859188972972334, Validation Loss: 0.00035373345781408716\n",
      "Epoch 4, Train Loss: 0.0003363495747325942, Validation Loss: 0.0003339919639984146\n",
      "Epoch 5, Train Loss: 0.0003200310792308301, Validation Loss: 0.0003210544737157761\n",
      "Epoch 6, Train Loss: 0.00030791559757199137, Validation Loss: 0.0003109122926616692\n",
      "Epoch 7, Train Loss: 0.0002990024946630001, Validation Loss: 0.00030360364235093584\n",
      "Epoch 8, Train Loss: 0.0002920938797760755, Validation Loss: 0.00029679001181648346\n",
      "Epoch 9, Train Loss: 0.00028672183584421874, Validation Loss: 0.000293041658551374\n",
      "Epoch 10, Train Loss: 0.00028246073133777826, Validation Loss: 0.0002892351376431179\n",
      "Epoch 11, Train Loss: 0.00027869409660343083, Validation Loss: 0.0002853262494681985\n",
      "Epoch 12, Train Loss: 0.0002756531564518809, Validation Loss: 0.00028277209912630497\n"
     ]
    }
   ],
   "source": [
    "\n",
    "\n",
    "# 训练模型\n",
    "n_epochs = 300\n",
    "\n",
    "for epoch in range(n_epochs):\n",
    "    model.train()\n",
    "    train_loss = 0\n",
    "    for inputs, targets in train_loader:\n",
    "        optimizer.zero_grad()\n",
    "        outputs = model(inputs)\n",
    "        loss = criterion(outputs, targets)\n",
    "        loss.backward()\n",
    "        optimizer.step()\n",
    "        train_loss += loss.item()\n",
    "    train_loss /= len(train_loader)\n",
    "    \n",
    "    model.eval()\n",
    "    val_loss = 0\n",
    "    with torch.no_grad():\n",
    "        for inputs, targets in val_loader:\n",
    "            outputs = model(inputs)\n",
    "            loss = criterion(outputs, targets)\n",
    "            val_loss += loss.item()\n",
    "    val_loss /= len(val_loader)\n",
    "    \n",
    "    print(f'Epoch {epoch+1}, Train Loss: {train_loss}, Validation Loss: {val_loss}')\n",
    "\n",
    "# 评估模型在测试集上的表现\n",
    "model.eval()\n",
    "test_loss = 0\n",
    "with torch.no_grad():\n",
    "    for inputs, targets in test_loader:\n",
    "        outputs = model(inputs)\n",
    "        loss = criterion(outputs, targets)\n",
    "        test_loss += loss.item()\n",
    "test_loss /= len(test_loader)\n",
    "print(f'Test Loss: {test_loss}')"
   ]
  },
  {
   "cell_type": "code",
   "execution_count": 33,
   "id": "f0794e57-69f8-46ab-bc9c-59af75b836ed",
   "metadata": {},
   "outputs": [],
   "source": [
    "#保存模型\n",
    "torch.save(model, 'RNN_2_0.pth')"
   ]
  },
  {
   "cell_type": "code",
   "execution_count": null,
   "id": "0a4a96a1-8ac5-4c9e-8a02-07bca22a4163",
   "metadata": {},
   "outputs": [],
   "source": [
    "#导出结果用于画图\n",
    "input_test = X_test\n",
    "target_test = Y_test\n",
    "model.eval()\n",
    "output_test = model(input_test)\n",
    "error_test= target_test-output_test\n",
    "flattened_error = torch.flatten(error_test)\n",
    "flattened_index = torch.flatten(target_test)\n",
    "errors_1 = [f for f,Y in zip(flattened_error,flattened_index) if Y !=0]\n",
    "print(len(errors_1))\n",
    "with torch.no_grad():\n",
    "    error_array = np.array(errors_1)\n"
   ]
  },
  {
   "cell_type": "code",
   "execution_count": null,
   "id": "9c116ed0-bdc9-403a-a900-7432f87f1bb3",
   "metadata": {},
   "outputs": [],
   "source": [
    "np.savetxt('errors_seq2seq_448d_LSTM.txt', error_array)\n",
    "print('结果已导出')"
   ]
  },
  {
   "cell_type": "code",
   "execution_count": 60,
   "id": "f9a2fa2a-345a-4780-953c-a3154ce3934c",
   "metadata": {},
   "outputs": [
    {
     "data": {
      "image/png": "[encoded data removed]",
      "text/plain": [
       "<Figure size 640x480 with 1 Axes>"
      ]
     },
     "metadata": {},
     "output_type": "display_data"
    }
   ],
   "source": [
    "error_np=tensor.numpy()\n",
    "plt.hist(error_np, bins=500, alpha=0.7, color='blue');"
   ]
  },
  {
   "cell_type": "code",
   "execution_count": 56,
   "id": "3521d5c0-d47d-4cab-93a0-e08e49698f25",
   "metadata": {},
   "outputs": [],
   "source": []
  },
  {
   "cell_type": "code",
   "execution_count": 72,
   "id": "5bc63201-fbcd-40b9-baf9-7d7619b518b0",
   "metadata": {},
   "outputs": [
    {
     "data": {
      "image/png": "[encoded data removed]",
      "text/plain": [
       "<Figure size 1000x500 with 2 Axes>"
      ]
     },
     "metadata": {},
     "output_type": "display_data"
    }
   ],
   "source": [
    "#下面是画效果图\n",
    "output_np=output_test.detach().numpy()\n",
    "target_np=target_test.detach().numpy()\n",
    "\n",
    "#对比那一组数据？\n",
    "i=720\n",
    "\n",
    "# 创建一个 1x2 的子图布局\n",
    "fig, axes = plt.subplots(1, 2, figsize=(10, 5))\n",
    "\n",
    "# 绘制第一个灰度图aim_of_truth(56*56)\n",
    "axes[0].imshow(target_np[i,:,:], cmap='gray')\n",
    "axes[0].set_title('Truth Image')\n",
    "axes[0].axis('off')  # 隐藏坐标轴\n",
    "\n",
    "# 绘制第二个灰度图v_array(56*56)\n",
    "axes[1].imshow(output_np[i,:,:], cmap='gray')\n",
    "axes[1].set_title('Predicted Image')\n",
    "axes[1].axis('off')  # 隐藏坐标轴\n",
    "\n",
    "# 显示图像\n",
    "plt.show()"
   ]
  },
  {
   "cell_type": "code",
   "execution_count": null,
   "id": "25173b68-98cc-4105-8a18-adcee43a9f2e",
   "metadata": {},
   "outputs": [],
   "source": [
    "\n"
   ]
  }
 ],
 "metadata": {
  "kernelspec": {
   "display_name": "pytorch_2.0",
   "language": "python",
   "name": "pytorch_2.0"
  },
  "language_info": {
   "codemirror_mode": {
    "name": "ipython",
    "version": 3
   },
   "file_extension": ".py",
   "mimetype": "text/x-python",
   "name": "python",
   "nbconvert_exporter": "python",
   "pygments_lexer": "ipython3",
   "version": "3.12.4"
  }
 },
 "nbformat": 4,
 "nbformat_minor": 5
}
